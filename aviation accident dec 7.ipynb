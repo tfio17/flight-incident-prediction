{
 "cells": [
  {
   "cell_type": "markdown",
   "metadata": {},
   "source": [
    "# Aviation Accident Prediction\n",
    "\n",
    "### Summary:\n",
    "\n",
    "- Data Sources:\n",
    "    - Aviation Accidents: https://www.kaggle.com/khsamaha/aviation-accident-database-synopses?select=AviationData.csv\n",
    "    \n",
    "- Environment Setup & Data Load:    \n",
    "- EDA:\n",
    "- Preprocessing:"
   ]
  },
  {
   "cell_type": "markdown",
   "metadata": {},
   "source": [
    "## Environment Setup:"
   ]
  },
  {
   "cell_type": "markdown",
   "metadata": {},
   "source": [
    "#### Import packages"
   ]
  },
  {
   "cell_type": "code",
   "execution_count": 1,
   "metadata": {},
   "outputs": [],
   "source": [
    "import pandas as pd\n",
    "import numpy as np\n",
    "import os"
   ]
  },
  {
   "cell_type": "markdown",
   "metadata": {},
   "source": [
    "#### Get Current Working Directory"
   ]
  },
  {
   "cell_type": "code",
   "execution_count": 2,
   "metadata": {
    "scrolled": true
   },
   "outputs": [
    {
     "name": "stdout",
     "output_type": "stream",
     "text": [
      "C:\\Users\\thoma\\Desktop\\Rutgers MBS\\Learning_Directory\\Aviation Accident Prediction Project\n"
     ]
    }
   ],
   "source": [
    "print(os.getcwd())"
   ]
  },
  {
   "cell_type": "code",
   "execution_count": 3,
   "metadata": {},
   "outputs": [],
   "source": [
    "wd = os.getcwd()"
   ]
  },
  {
   "cell_type": "markdown",
   "metadata": {},
   "source": [
    "## Load Data:"
   ]
  },
  {
   "cell_type": "markdown",
   "metadata": {},
   "source": [
    "#### Aviation Data:"
   ]
  },
  {
   "cell_type": "code",
   "execution_count": 4,
   "metadata": {},
   "outputs": [],
   "source": [
    "accident_df = pd.read_csv(os.path.join(wd,'AviationData.csv'))"
   ]
  },
  {
   "cell_type": "code",
   "execution_count": 5,
   "metadata": {},
   "outputs": [
    {
     "data": {
      "text/html": [
       "<div>\n",
       "<style scoped>\n",
       "    .dataframe tbody tr th:only-of-type {\n",
       "        vertical-align: middle;\n",
       "    }\n",
       "\n",
       "    .dataframe tbody tr th {\n",
       "        vertical-align: top;\n",
       "    }\n",
       "\n",
       "    .dataframe thead th {\n",
       "        text-align: right;\n",
       "    }\n",
       "</style>\n",
       "<table border=\"1\" class=\"dataframe\">\n",
       "  <thead>\n",
       "    <tr style=\"text-align: right;\">\n",
       "      <th></th>\n",
       "      <th>Event.Id</th>\n",
       "      <th>Investigation.Type</th>\n",
       "      <th>Accident.Number</th>\n",
       "      <th>Event.Date</th>\n",
       "      <th>Location</th>\n",
       "      <th>Country</th>\n",
       "      <th>Latitude</th>\n",
       "      <th>Longitude</th>\n",
       "      <th>Airport.Code</th>\n",
       "      <th>Airport.Name</th>\n",
       "      <th>...</th>\n",
       "      <th>Purpose.of.Flight</th>\n",
       "      <th>Air.Carrier</th>\n",
       "      <th>Total.Fatal.Injuries</th>\n",
       "      <th>Total.Serious.Injuries</th>\n",
       "      <th>Total.Minor.Injuries</th>\n",
       "      <th>Total.Uninjured</th>\n",
       "      <th>Weather.Condition</th>\n",
       "      <th>Broad.Phase.of.Flight</th>\n",
       "      <th>Report.Status</th>\n",
       "      <th>Publication.Date</th>\n",
       "    </tr>\n",
       "  </thead>\n",
       "  <tbody>\n",
       "    <tr>\n",
       "      <th>0</th>\n",
       "      <td>20200102X82407</td>\n",
       "      <td>Accident</td>\n",
       "      <td>WPR20CA055</td>\n",
       "      <td>12/31/2019</td>\n",
       "      <td>Elk, CA</td>\n",
       "      <td>United States</td>\n",
       "      <td>39.128611</td>\n",
       "      <td>-123.715833</td>\n",
       "      <td>LLR</td>\n",
       "      <td>Little River</td>\n",
       "      <td>...</td>\n",
       "      <td>Personal</td>\n",
       "      <td>NaN</td>\n",
       "      <td>NaN</td>\n",
       "      <td>NaN</td>\n",
       "      <td>NaN</td>\n",
       "      <td>1.0</td>\n",
       "      <td>VMC</td>\n",
       "      <td>TAKEOFF</td>\n",
       "      <td>Factual</td>\n",
       "      <td>13/01/2020</td>\n",
       "    </tr>\n",
       "    <tr>\n",
       "      <th>1</th>\n",
       "      <td>20191231X83852</td>\n",
       "      <td>Accident</td>\n",
       "      <td>CEN20FA049</td>\n",
       "      <td>12/31/2019</td>\n",
       "      <td>OLATHE, KS</td>\n",
       "      <td>United States</td>\n",
       "      <td>38.846111</td>\n",
       "      <td>-94.736111</td>\n",
       "      <td>OJC</td>\n",
       "      <td>Johnson County Executive</td>\n",
       "      <td>...</td>\n",
       "      <td>Personal</td>\n",
       "      <td>NaN</td>\n",
       "      <td>2.0</td>\n",
       "      <td>NaN</td>\n",
       "      <td>NaN</td>\n",
       "      <td>NaN</td>\n",
       "      <td>VMC</td>\n",
       "      <td>TAKEOFF</td>\n",
       "      <td>Preliminary</td>\n",
       "      <td>8/1/2020</td>\n",
       "    </tr>\n",
       "    <tr>\n",
       "      <th>2</th>\n",
       "      <td>20200102X54844</td>\n",
       "      <td>Accident</td>\n",
       "      <td>ANC20CA011</td>\n",
       "      <td>12/31/2019</td>\n",
       "      <td>Fairbanks, AK</td>\n",
       "      <td>United States</td>\n",
       "      <td>64.666945</td>\n",
       "      <td>-148.133334</td>\n",
       "      <td>NaN</td>\n",
       "      <td>NaN</td>\n",
       "      <td>...</td>\n",
       "      <td>Personal</td>\n",
       "      <td>NaN</td>\n",
       "      <td>NaN</td>\n",
       "      <td>NaN</td>\n",
       "      <td>NaN</td>\n",
       "      <td>2.0</td>\n",
       "      <td>NaN</td>\n",
       "      <td>NaN</td>\n",
       "      <td>Preliminary</td>\n",
       "      <td>2/1/2020</td>\n",
       "    </tr>\n",
       "    <tr>\n",
       "      <th>3</th>\n",
       "      <td>20191230X91852</td>\n",
       "      <td>Accident</td>\n",
       "      <td>CEN20CA048</td>\n",
       "      <td>12/30/2019</td>\n",
       "      <td>GRANBURY, TX</td>\n",
       "      <td>United States</td>\n",
       "      <td>32.365556</td>\n",
       "      <td>-97.645000</td>\n",
       "      <td>NaN</td>\n",
       "      <td>NaN</td>\n",
       "      <td>...</td>\n",
       "      <td>Personal</td>\n",
       "      <td>NaN</td>\n",
       "      <td>NaN</td>\n",
       "      <td>NaN</td>\n",
       "      <td>NaN</td>\n",
       "      <td>1.0</td>\n",
       "      <td>NaN</td>\n",
       "      <td>NaN</td>\n",
       "      <td>Preliminary</td>\n",
       "      <td>31/12/2019</td>\n",
       "    </tr>\n",
       "    <tr>\n",
       "      <th>4</th>\n",
       "      <td>20191228X62945</td>\n",
       "      <td>NaN</td>\n",
       "      <td>WPR20CA053</td>\n",
       "      <td>12/28/2019</td>\n",
       "      <td>Missoula, MT</td>\n",
       "      <td>United States</td>\n",
       "      <td>NaN</td>\n",
       "      <td>NaN</td>\n",
       "      <td>MSO</td>\n",
       "      <td>NaN</td>\n",
       "      <td>...</td>\n",
       "      <td>NaN</td>\n",
       "      <td>NaN</td>\n",
       "      <td>NaN</td>\n",
       "      <td>NaN</td>\n",
       "      <td>NaN</td>\n",
       "      <td>NaN</td>\n",
       "      <td>NaN</td>\n",
       "      <td>NaN</td>\n",
       "      <td>Preliminary</td>\n",
       "      <td>3/1/2020</td>\n",
       "    </tr>\n",
       "  </tbody>\n",
       "</table>\n",
       "<p>5 rows × 31 columns</p>\n",
       "</div>"
      ],
      "text/plain": [
       "         Event.Id Investigation.Type Accident.Number  Event.Date  \\\n",
       "0  20200102X82407           Accident      WPR20CA055  12/31/2019   \n",
       "1  20191231X83852           Accident      CEN20FA049  12/31/2019   \n",
       "2  20200102X54844           Accident      ANC20CA011  12/31/2019   \n",
       "3  20191230X91852           Accident      CEN20CA048  12/30/2019   \n",
       "4  20191228X62945                NaN      WPR20CA053  12/28/2019   \n",
       "\n",
       "        Location        Country   Latitude   Longitude Airport.Code  \\\n",
       "0        Elk, CA  United States  39.128611 -123.715833          LLR   \n",
       "1     OLATHE, KS  United States  38.846111  -94.736111          OJC   \n",
       "2  Fairbanks, AK  United States  64.666945 -148.133334          NaN   \n",
       "3   GRANBURY, TX  United States  32.365556  -97.645000          NaN   \n",
       "4   Missoula, MT  United States        NaN         NaN          MSO   \n",
       "\n",
       "               Airport.Name       ...        Purpose.of.Flight Air.Carrier  \\\n",
       "0              Little River       ...                 Personal         NaN   \n",
       "1  Johnson County Executive       ...                 Personal         NaN   \n",
       "2                       NaN       ...                 Personal         NaN   \n",
       "3                       NaN       ...                 Personal         NaN   \n",
       "4                       NaN       ...                      NaN         NaN   \n",
       "\n",
       "  Total.Fatal.Injuries Total.Serious.Injuries Total.Minor.Injuries  \\\n",
       "0                  NaN                    NaN                  NaN   \n",
       "1                  2.0                    NaN                  NaN   \n",
       "2                  NaN                    NaN                  NaN   \n",
       "3                  NaN                    NaN                  NaN   \n",
       "4                  NaN                    NaN                  NaN   \n",
       "\n",
       "  Total.Uninjured Weather.Condition  Broad.Phase.of.Flight Report.Status  \\\n",
       "0             1.0               VMC                TAKEOFF       Factual   \n",
       "1             NaN               VMC                TAKEOFF   Preliminary   \n",
       "2             2.0               NaN                    NaN   Preliminary   \n",
       "3             1.0               NaN                    NaN   Preliminary   \n",
       "4             NaN               NaN                    NaN   Preliminary   \n",
       "\n",
       "  Publication.Date  \n",
       "0       13/01/2020  \n",
       "1         8/1/2020  \n",
       "2         2/1/2020  \n",
       "3       31/12/2019  \n",
       "4         3/1/2020  \n",
       "\n",
       "[5 rows x 31 columns]"
      ]
     },
     "execution_count": 5,
     "metadata": {},
     "output_type": "execute_result"
    }
   ],
   "source": [
    "accident_df.head()"
   ]
  },
  {
   "cell_type": "code",
   "execution_count": 6,
   "metadata": {},
   "outputs": [],
   "source": [
    "accident_by_code = accident_df.groupby(['Airport.Code'])['Event.Id'].nunique().to_frame().sort_values('Event.Id',ascending=False)"
   ]
  },
  {
   "cell_type": "code",
   "execution_count": 7,
   "metadata": {},
   "outputs": [
    {
     "data": {
      "text/plain": [
       "Index(['Event.Id', 'Investigation.Type', 'Accident.Number', 'Event.Date',\n",
       "       'Location', 'Country', 'Latitude', 'Longitude', 'Airport.Code',\n",
       "       'Airport.Name', 'Injury.Severity', 'Aircraft.Damage',\n",
       "       'Aircraft.Category', 'Registration.Number', 'Make', 'Model',\n",
       "       'Amateur.Built', 'Number.of.Engines', 'Engine.Type', 'FAR.Description',\n",
       "       'Schedule', 'Purpose.of.Flight', 'Air.Carrier', 'Total.Fatal.Injuries',\n",
       "       'Total.Serious.Injuries', 'Total.Minor.Injuries', 'Total.Uninjured',\n",
       "       'Weather.Condition', 'Broad.Phase.of.Flight', 'Report.Status',\n",
       "       'Publication.Date'],\n",
       "      dtype='object')"
      ]
     },
     "execution_count": 7,
     "metadata": {},
     "output_type": "execute_result"
    }
   ],
   "source": [
    "accident_df.columns"
   ]
  },
  {
   "cell_type": "code",
   "execution_count": 8,
   "metadata": {},
   "outputs": [
    {
     "data": {
      "text/plain": [
       "(84262, 31)"
      ]
     },
     "execution_count": 8,
     "metadata": {},
     "output_type": "execute_result"
    }
   ],
   "source": [
    "accident_df.shape"
   ]
  },
  {
   "cell_type": "code",
   "execution_count": 9,
   "metadata": {},
   "outputs": [
    {
     "data": {
      "text/plain": [
       "Event.Id                      0\n",
       "Investigation.Type            5\n",
       "Accident.Number               0\n",
       "Event.Date                    0\n",
       "Location                     77\n",
       "Country                     507\n",
       "Latitude                  54099\n",
       "Longitude                 54108\n",
       "Airport.Code              36539\n",
       "Airport.Name              33823\n",
       "Injury.Severity               0\n",
       "Aircraft.Damage            2709\n",
       "Aircraft.Category         56754\n",
       "Registration.Number        3850\n",
       "Make                         70\n",
       "Model                        99\n",
       "Amateur.Built               609\n",
       "Number.of.Engines          5034\n",
       "Engine.Type                4256\n",
       "FAR.Description           57056\n",
       "Schedule                  72419\n",
       "Purpose.of.Flight          4880\n",
       "Air.Carrier               80093\n",
       "Total.Fatal.Injuries      27203\n",
       "Total.Serious.Injuries    29878\n",
       "Total.Minor.Injuries      28670\n",
       "Total.Uninjured           14589\n",
       "Weather.Condition          3103\n",
       "Broad.Phase.of.Flight      6608\n",
       "Report.Status                 0\n",
       "Publication.Date          14315\n",
       "dtype: int64"
      ]
     },
     "execution_count": 9,
     "metadata": {},
     "output_type": "execute_result"
    }
   ],
   "source": [
    "accident_df.isnull().sum()"
   ]
  },
  {
   "cell_type": "code",
   "execution_count": null,
   "metadata": {},
   "outputs": [],
   "source": []
  },
  {
   "cell_type": "markdown",
   "metadata": {},
   "source": [
    "## EDA:"
   ]
  },
  {
   "cell_type": "markdown",
   "metadata": {},
   "source": [
    "#### Aviation Accidents"
   ]
  },
  {
   "cell_type": "code",
   "execution_count": 10,
   "metadata": {},
   "outputs": [
    {
     "data": {
      "text/html": [
       "<div>\n",
       "<style scoped>\n",
       "    .dataframe tbody tr th:only-of-type {\n",
       "        vertical-align: middle;\n",
       "    }\n",
       "\n",
       "    .dataframe tbody tr th {\n",
       "        vertical-align: top;\n",
       "    }\n",
       "\n",
       "    .dataframe thead th {\n",
       "        text-align: right;\n",
       "    }\n",
       "</style>\n",
       "<table border=\"1\" class=\"dataframe\">\n",
       "  <thead>\n",
       "    <tr style=\"text-align: right;\">\n",
       "      <th></th>\n",
       "      <th>Event.Id</th>\n",
       "      <th>Investigation.Type</th>\n",
       "      <th>Accident.Number</th>\n",
       "      <th>Event.Date</th>\n",
       "      <th>Location</th>\n",
       "      <th>Country</th>\n",
       "      <th>Latitude</th>\n",
       "      <th>Longitude</th>\n",
       "      <th>Airport.Code</th>\n",
       "      <th>Airport.Name</th>\n",
       "      <th>...</th>\n",
       "      <th>Purpose.of.Flight</th>\n",
       "      <th>Air.Carrier</th>\n",
       "      <th>Total.Fatal.Injuries</th>\n",
       "      <th>Total.Serious.Injuries</th>\n",
       "      <th>Total.Minor.Injuries</th>\n",
       "      <th>Total.Uninjured</th>\n",
       "      <th>Weather.Condition</th>\n",
       "      <th>Broad.Phase.of.Flight</th>\n",
       "      <th>Report.Status</th>\n",
       "      <th>Publication.Date</th>\n",
       "    </tr>\n",
       "  </thead>\n",
       "  <tbody>\n",
       "    <tr>\n",
       "      <th>0</th>\n",
       "      <td>20200102X82407</td>\n",
       "      <td>Accident</td>\n",
       "      <td>WPR20CA055</td>\n",
       "      <td>12/31/2019</td>\n",
       "      <td>Elk, CA</td>\n",
       "      <td>United States</td>\n",
       "      <td>39.128611</td>\n",
       "      <td>-123.715833</td>\n",
       "      <td>LLR</td>\n",
       "      <td>Little River</td>\n",
       "      <td>...</td>\n",
       "      <td>Personal</td>\n",
       "      <td>NaN</td>\n",
       "      <td>NaN</td>\n",
       "      <td>NaN</td>\n",
       "      <td>NaN</td>\n",
       "      <td>1.0</td>\n",
       "      <td>VMC</td>\n",
       "      <td>TAKEOFF</td>\n",
       "      <td>Factual</td>\n",
       "      <td>13/01/2020</td>\n",
       "    </tr>\n",
       "  </tbody>\n",
       "</table>\n",
       "<p>1 rows × 31 columns</p>\n",
       "</div>"
      ],
      "text/plain": [
       "         Event.Id Investigation.Type Accident.Number  Event.Date Location  \\\n",
       "0  20200102X82407           Accident      WPR20CA055  12/31/2019  Elk, CA   \n",
       "\n",
       "         Country   Latitude   Longitude Airport.Code  Airport.Name  \\\n",
       "0  United States  39.128611 -123.715833          LLR  Little River   \n",
       "\n",
       "        ...        Purpose.of.Flight Air.Carrier Total.Fatal.Injuries  \\\n",
       "0       ...                 Personal         NaN                  NaN   \n",
       "\n",
       "  Total.Serious.Injuries Total.Minor.Injuries Total.Uninjured  \\\n",
       "0                    NaN                  NaN             1.0   \n",
       "\n",
       "  Weather.Condition  Broad.Phase.of.Flight Report.Status Publication.Date  \n",
       "0               VMC                TAKEOFF       Factual       13/01/2020  \n",
       "\n",
       "[1 rows x 31 columns]"
      ]
     },
     "execution_count": 10,
     "metadata": {},
     "output_type": "execute_result"
    }
   ],
   "source": [
    "accident_df.head(1)"
   ]
  },
  {
   "cell_type": "code",
   "execution_count": 11,
   "metadata": {},
   "outputs": [
    {
     "data": {
      "text/plain": [
       "Index(['Event.Id', 'Investigation.Type', 'Accident.Number', 'Event.Date',\n",
       "       'Location', 'Country', 'Latitude', 'Longitude', 'Airport.Code',\n",
       "       'Airport.Name', 'Injury.Severity', 'Aircraft.Damage',\n",
       "       'Aircraft.Category', 'Registration.Number', 'Make', 'Model',\n",
       "       'Amateur.Built', 'Number.of.Engines', 'Engine.Type', 'FAR.Description',\n",
       "       'Schedule', 'Purpose.of.Flight', 'Air.Carrier', 'Total.Fatal.Injuries',\n",
       "       'Total.Serious.Injuries', 'Total.Minor.Injuries', 'Total.Uninjured',\n",
       "       'Weather.Condition', 'Broad.Phase.of.Flight', 'Report.Status',\n",
       "       'Publication.Date'],\n",
       "      dtype='object')"
      ]
     },
     "execution_count": 11,
     "metadata": {},
     "output_type": "execute_result"
    }
   ],
   "source": [
    "accident_df.columns"
   ]
  },
  {
   "cell_type": "code",
   "execution_count": 12,
   "metadata": {},
   "outputs": [
    {
     "data": {
      "text/plain": [
       "Event.Id                      0\n",
       "Investigation.Type            5\n",
       "Accident.Number               0\n",
       "Event.Date                    0\n",
       "Location                     77\n",
       "Country                     507\n",
       "Latitude                  54099\n",
       "Longitude                 54108\n",
       "Airport.Code              36539\n",
       "Airport.Name              33823\n",
       "Injury.Severity               0\n",
       "Aircraft.Damage            2709\n",
       "Aircraft.Category         56754\n",
       "Registration.Number        3850\n",
       "Make                         70\n",
       "Model                        99\n",
       "Amateur.Built               609\n",
       "Number.of.Engines          5034\n",
       "Engine.Type                4256\n",
       "FAR.Description           57056\n",
       "Schedule                  72419\n",
       "Purpose.of.Flight          4880\n",
       "Air.Carrier               80093\n",
       "Total.Fatal.Injuries      27203\n",
       "Total.Serious.Injuries    29878\n",
       "Total.Minor.Injuries      28670\n",
       "Total.Uninjured           14589\n",
       "Weather.Condition          3103\n",
       "Broad.Phase.of.Flight      6608\n",
       "Report.Status                 0\n",
       "Publication.Date          14315\n",
       "dtype: int64"
      ]
     },
     "execution_count": 12,
     "metadata": {},
     "output_type": "execute_result"
    }
   ],
   "source": [
    "accident_df.isnull().sum()"
   ]
  },
  {
   "cell_type": "code",
   "execution_count": 13,
   "metadata": {},
   "outputs": [
    {
     "data": {
      "text/plain": [
       "{'Accident', 'Incident', nan}"
      ]
     },
     "execution_count": 13,
     "metadata": {},
     "output_type": "execute_result"
    }
   ],
   "source": [
    "set(accident_df[\"Investigation.Type\"])"
   ]
  },
  {
   "cell_type": "code",
   "execution_count": 14,
   "metadata": {},
   "outputs": [
    {
     "data": {
      "text/html": [
       "<div>\n",
       "<style scoped>\n",
       "    .dataframe tbody tr th:only-of-type {\n",
       "        vertical-align: middle;\n",
       "    }\n",
       "\n",
       "    .dataframe tbody tr th {\n",
       "        vertical-align: top;\n",
       "    }\n",
       "\n",
       "    .dataframe thead th {\n",
       "        text-align: right;\n",
       "    }\n",
       "</style>\n",
       "<table border=\"1\" class=\"dataframe\">\n",
       "  <thead>\n",
       "    <tr style=\"text-align: right;\">\n",
       "      <th></th>\n",
       "      <th>Event.Id</th>\n",
       "    </tr>\n",
       "    <tr>\n",
       "      <th>Investigation.Type</th>\n",
       "      <th></th>\n",
       "    </tr>\n",
       "  </thead>\n",
       "  <tbody>\n",
       "    <tr>\n",
       "      <th>Accident</th>\n",
       "      <td>79757</td>\n",
       "    </tr>\n",
       "    <tr>\n",
       "      <th>Incident</th>\n",
       "      <td>3273</td>\n",
       "    </tr>\n",
       "  </tbody>\n",
       "</table>\n",
       "</div>"
      ],
      "text/plain": [
       "                    Event.Id\n",
       "Investigation.Type          \n",
       "Accident               79757\n",
       "Incident                3273"
      ]
     },
     "execution_count": 14,
     "metadata": {},
     "output_type": "execute_result"
    }
   ],
   "source": [
    "accident_df.groupby(['Investigation.Type'])[\"Event.Id\"].nunique().to_frame()"
   ]
  },
  {
   "cell_type": "code",
   "execution_count": 15,
   "metadata": {},
   "outputs": [
    {
     "data": {
      "text/html": [
       "<div>\n",
       "<style scoped>\n",
       "    .dataframe tbody tr th:only-of-type {\n",
       "        vertical-align: middle;\n",
       "    }\n",
       "\n",
       "    .dataframe tbody tr th {\n",
       "        vertical-align: top;\n",
       "    }\n",
       "\n",
       "    .dataframe thead th {\n",
       "        text-align: right;\n",
       "    }\n",
       "</style>\n",
       "<table border=\"1\" class=\"dataframe\">\n",
       "  <thead>\n",
       "    <tr style=\"text-align: right;\">\n",
       "      <th></th>\n",
       "      <th></th>\n",
       "      <th>Event.Id</th>\n",
       "    </tr>\n",
       "    <tr>\n",
       "      <th>Investigation.Type</th>\n",
       "      <th>Aircraft.Damage</th>\n",
       "      <th></th>\n",
       "    </tr>\n",
       "  </thead>\n",
       "  <tbody>\n",
       "    <tr>\n",
       "      <th rowspan=\"3\" valign=\"top\">Accident</th>\n",
       "      <th>Destroyed</th>\n",
       "      <td>17842</td>\n",
       "    </tr>\n",
       "    <tr>\n",
       "      <th>Minor</th>\n",
       "      <td>726</td>\n",
       "    </tr>\n",
       "    <tr>\n",
       "      <th>Substantial</th>\n",
       "      <td>60458</td>\n",
       "    </tr>\n",
       "    <tr>\n",
       "      <th rowspan=\"3\" valign=\"top\">Incident</th>\n",
       "      <th>Destroyed</th>\n",
       "      <td>9</td>\n",
       "    </tr>\n",
       "    <tr>\n",
       "      <th>Minor</th>\n",
       "      <td>1895</td>\n",
       "    </tr>\n",
       "    <tr>\n",
       "      <th>Substantial</th>\n",
       "      <td>35</td>\n",
       "    </tr>\n",
       "  </tbody>\n",
       "</table>\n",
       "</div>"
      ],
      "text/plain": [
       "                                    Event.Id\n",
       "Investigation.Type Aircraft.Damage          \n",
       "Accident           Destroyed           17842\n",
       "                   Minor                 726\n",
       "                   Substantial         60458\n",
       "Incident           Destroyed               9\n",
       "                   Minor                1895\n",
       "                   Substantial            35"
      ]
     },
     "execution_count": 15,
     "metadata": {},
     "output_type": "execute_result"
    }
   ],
   "source": [
    "accident_df.groupby(['Investigation.Type', 'Aircraft.Damage'])[\"Event.Id\"].nunique().to_frame()"
   ]
  },
  {
   "cell_type": "code",
   "execution_count": 16,
   "metadata": {},
   "outputs": [
    {
     "data": {
      "text/html": [
       "<div>\n",
       "<style scoped>\n",
       "    .dataframe tbody tr th:only-of-type {\n",
       "        vertical-align: middle;\n",
       "    }\n",
       "\n",
       "    .dataframe tbody tr th {\n",
       "        vertical-align: top;\n",
       "    }\n",
       "\n",
       "    .dataframe thead th {\n",
       "        text-align: right;\n",
       "    }\n",
       "</style>\n",
       "<table border=\"1\" class=\"dataframe\">\n",
       "  <thead>\n",
       "    <tr style=\"text-align: right;\">\n",
       "      <th></th>\n",
       "      <th></th>\n",
       "      <th>Event.Id</th>\n",
       "    </tr>\n",
       "    <tr>\n",
       "      <th>Investigation.Type</th>\n",
       "      <th>Injury.Severity</th>\n",
       "      <th></th>\n",
       "    </tr>\n",
       "  </thead>\n",
       "  <tbody>\n",
       "    <tr>\n",
       "      <th rowspan=\"5\" valign=\"top\">Accident</th>\n",
       "      <th>Fatal(1)</th>\n",
       "      <td>8280</td>\n",
       "    </tr>\n",
       "    <tr>\n",
       "      <th>Fatal(10)</th>\n",
       "      <td>43</td>\n",
       "    </tr>\n",
       "    <tr>\n",
       "      <th>Fatal(102)</th>\n",
       "      <td>2</td>\n",
       "    </tr>\n",
       "    <tr>\n",
       "      <th>Fatal(103)</th>\n",
       "      <td>1</td>\n",
       "    </tr>\n",
       "    <tr>\n",
       "      <th>Fatal(104)</th>\n",
       "      <td>2</td>\n",
       "    </tr>\n",
       "  </tbody>\n",
       "</table>\n",
       "</div>"
      ],
      "text/plain": [
       "                                    Event.Id\n",
       "Investigation.Type Injury.Severity          \n",
       "Accident           Fatal(1)             8280\n",
       "                   Fatal(10)              43\n",
       "                   Fatal(102)              2\n",
       "                   Fatal(103)              1\n",
       "                   Fatal(104)              2"
      ]
     },
     "execution_count": 16,
     "metadata": {},
     "output_type": "execute_result"
    }
   ],
   "source": [
    "accident_df.groupby(['Investigation.Type', 'Injury.Severity'])[\"Event.Id\"].nunique().to_frame().head()"
   ]
  },
  {
   "cell_type": "code",
   "execution_count": 17,
   "metadata": {},
   "outputs": [
    {
     "data": {
      "text/html": [
       "<div>\n",
       "<style scoped>\n",
       "    .dataframe tbody tr th:only-of-type {\n",
       "        vertical-align: middle;\n",
       "    }\n",
       "\n",
       "    .dataframe tbody tr th {\n",
       "        vertical-align: top;\n",
       "    }\n",
       "\n",
       "    .dataframe thead th {\n",
       "        text-align: right;\n",
       "    }\n",
       "</style>\n",
       "<table border=\"1\" class=\"dataframe\">\n",
       "  <thead>\n",
       "    <tr style=\"text-align: right;\">\n",
       "      <th></th>\n",
       "      <th></th>\n",
       "      <th>Event.Id</th>\n",
       "    </tr>\n",
       "    <tr>\n",
       "      <th>Investigation.Type</th>\n",
       "      <th>Injury.Severity</th>\n",
       "      <th></th>\n",
       "    </tr>\n",
       "  </thead>\n",
       "  <tbody>\n",
       "    <tr>\n",
       "      <th rowspan=\"4\" valign=\"top\">Accident</th>\n",
       "      <th>Fatal(96)</th>\n",
       "      <td>1</td>\n",
       "    </tr>\n",
       "    <tr>\n",
       "      <th>Fatal(97)</th>\n",
       "      <td>2</td>\n",
       "    </tr>\n",
       "    <tr>\n",
       "      <th>Non-Fatal</th>\n",
       "      <td>62828</td>\n",
       "    </tr>\n",
       "    <tr>\n",
       "      <th>Unavailable</th>\n",
       "      <td>315</td>\n",
       "    </tr>\n",
       "    <tr>\n",
       "      <th>Incident</th>\n",
       "      <th>Incident</th>\n",
       "      <td>3273</td>\n",
       "    </tr>\n",
       "  </tbody>\n",
       "</table>\n",
       "</div>"
      ],
      "text/plain": [
       "                                    Event.Id\n",
       "Investigation.Type Injury.Severity          \n",
       "Accident           Fatal(96)               1\n",
       "                   Fatal(97)               2\n",
       "                   Non-Fatal           62828\n",
       "                   Unavailable           315\n",
       "Incident           Incident             3273"
      ]
     },
     "execution_count": 17,
     "metadata": {},
     "output_type": "execute_result"
    }
   ],
   "source": [
    "accident_df.groupby(['Investigation.Type', 'Injury.Severity'])[\"Event.Id\"].nunique().to_frame().tail()"
   ]
  },
  {
   "cell_type": "code",
   "execution_count": 18,
   "metadata": {},
   "outputs": [],
   "source": [
    "accidents_only_df = accident_df[accident_df[\"Investigation.Type\"]=='Accident']\n",
    "accidents_only_df = accidents_only_df[accidents_only_df['Injury.Severity'] != 'Unavailable']\n",
    "accidents_only_df['Severity'] = accidents_only_df['Injury.Severity'].apply(lambda x: 'Fatal' if x[0]=='F' else x)"
   ]
  },
  {
   "cell_type": "code",
   "execution_count": 19,
   "metadata": {},
   "outputs": [
    {
     "data": {
      "text/plain": [
       "{'Fatal', 'Non-Fatal'}"
      ]
     },
     "execution_count": 19,
     "metadata": {},
     "output_type": "execute_result"
    }
   ],
   "source": [
    "set(accidents_only_df['Severity'])"
   ]
  },
  {
   "cell_type": "code",
   "execution_count": 20,
   "metadata": {},
   "outputs": [
    {
     "data": {
      "text/html": [
       "<div>\n",
       "<style scoped>\n",
       "    .dataframe tbody tr th:only-of-type {\n",
       "        vertical-align: middle;\n",
       "    }\n",
       "\n",
       "    .dataframe tbody tr th {\n",
       "        vertical-align: top;\n",
       "    }\n",
       "\n",
       "    .dataframe thead th {\n",
       "        text-align: right;\n",
       "    }\n",
       "</style>\n",
       "<table border=\"1\" class=\"dataframe\">\n",
       "  <thead>\n",
       "    <tr style=\"text-align: right;\">\n",
       "      <th></th>\n",
       "      <th>Event.Id</th>\n",
       "      <th>Investigation.Type</th>\n",
       "      <th>Accident.Number</th>\n",
       "      <th>Event.Date</th>\n",
       "      <th>Location</th>\n",
       "      <th>Country</th>\n",
       "      <th>Latitude</th>\n",
       "      <th>Longitude</th>\n",
       "      <th>Airport.Code</th>\n",
       "      <th>Airport.Name</th>\n",
       "      <th>...</th>\n",
       "      <th>Air.Carrier</th>\n",
       "      <th>Total.Fatal.Injuries</th>\n",
       "      <th>Total.Serious.Injuries</th>\n",
       "      <th>Total.Minor.Injuries</th>\n",
       "      <th>Total.Uninjured</th>\n",
       "      <th>Weather.Condition</th>\n",
       "      <th>Broad.Phase.of.Flight</th>\n",
       "      <th>Report.Status</th>\n",
       "      <th>Publication.Date</th>\n",
       "      <th>Severity</th>\n",
       "    </tr>\n",
       "  </thead>\n",
       "  <tbody>\n",
       "    <tr>\n",
       "      <th>0</th>\n",
       "      <td>20200102X82407</td>\n",
       "      <td>Accident</td>\n",
       "      <td>WPR20CA055</td>\n",
       "      <td>12/31/2019</td>\n",
       "      <td>Elk, CA</td>\n",
       "      <td>United States</td>\n",
       "      <td>39.128611</td>\n",
       "      <td>-123.715833</td>\n",
       "      <td>LLR</td>\n",
       "      <td>Little River</td>\n",
       "      <td>...</td>\n",
       "      <td>NaN</td>\n",
       "      <td>NaN</td>\n",
       "      <td>NaN</td>\n",
       "      <td>NaN</td>\n",
       "      <td>1.0</td>\n",
       "      <td>VMC</td>\n",
       "      <td>TAKEOFF</td>\n",
       "      <td>Factual</td>\n",
       "      <td>13/01/2020</td>\n",
       "      <td>Non-Fatal</td>\n",
       "    </tr>\n",
       "    <tr>\n",
       "      <th>1</th>\n",
       "      <td>20191231X83852</td>\n",
       "      <td>Accident</td>\n",
       "      <td>CEN20FA049</td>\n",
       "      <td>12/31/2019</td>\n",
       "      <td>OLATHE, KS</td>\n",
       "      <td>United States</td>\n",
       "      <td>38.846111</td>\n",
       "      <td>-94.736111</td>\n",
       "      <td>OJC</td>\n",
       "      <td>Johnson County Executive</td>\n",
       "      <td>...</td>\n",
       "      <td>NaN</td>\n",
       "      <td>2.0</td>\n",
       "      <td>NaN</td>\n",
       "      <td>NaN</td>\n",
       "      <td>NaN</td>\n",
       "      <td>VMC</td>\n",
       "      <td>TAKEOFF</td>\n",
       "      <td>Preliminary</td>\n",
       "      <td>8/1/2020</td>\n",
       "      <td>Fatal</td>\n",
       "    </tr>\n",
       "    <tr>\n",
       "      <th>2</th>\n",
       "      <td>20200102X54844</td>\n",
       "      <td>Accident</td>\n",
       "      <td>ANC20CA011</td>\n",
       "      <td>12/31/2019</td>\n",
       "      <td>Fairbanks, AK</td>\n",
       "      <td>United States</td>\n",
       "      <td>64.666945</td>\n",
       "      <td>-148.133334</td>\n",
       "      <td>NaN</td>\n",
       "      <td>NaN</td>\n",
       "      <td>...</td>\n",
       "      <td>NaN</td>\n",
       "      <td>NaN</td>\n",
       "      <td>NaN</td>\n",
       "      <td>NaN</td>\n",
       "      <td>2.0</td>\n",
       "      <td>NaN</td>\n",
       "      <td>NaN</td>\n",
       "      <td>Preliminary</td>\n",
       "      <td>2/1/2020</td>\n",
       "      <td>Non-Fatal</td>\n",
       "    </tr>\n",
       "    <tr>\n",
       "      <th>3</th>\n",
       "      <td>20191230X91852</td>\n",
       "      <td>Accident</td>\n",
       "      <td>CEN20CA048</td>\n",
       "      <td>12/30/2019</td>\n",
       "      <td>GRANBURY, TX</td>\n",
       "      <td>United States</td>\n",
       "      <td>32.365556</td>\n",
       "      <td>-97.645000</td>\n",
       "      <td>NaN</td>\n",
       "      <td>NaN</td>\n",
       "      <td>...</td>\n",
       "      <td>NaN</td>\n",
       "      <td>NaN</td>\n",
       "      <td>NaN</td>\n",
       "      <td>NaN</td>\n",
       "      <td>1.0</td>\n",
       "      <td>NaN</td>\n",
       "      <td>NaN</td>\n",
       "      <td>Preliminary</td>\n",
       "      <td>31/12/2019</td>\n",
       "      <td>Non-Fatal</td>\n",
       "    </tr>\n",
       "    <tr>\n",
       "      <th>5</th>\n",
       "      <td>20191228X23853</td>\n",
       "      <td>Accident</td>\n",
       "      <td>CEN20MA044</td>\n",
       "      <td>12/28/2019</td>\n",
       "      <td>LAFAYETTE, LA</td>\n",
       "      <td>United States</td>\n",
       "      <td>30.176111</td>\n",
       "      <td>-92.007500</td>\n",
       "      <td>LFT</td>\n",
       "      <td>Lafayette Regional Apt</td>\n",
       "      <td>...</td>\n",
       "      <td>NaN</td>\n",
       "      <td>5.0</td>\n",
       "      <td>2.0</td>\n",
       "      <td>2.0</td>\n",
       "      <td>NaN</td>\n",
       "      <td>IMC</td>\n",
       "      <td>TAKEOFF</td>\n",
       "      <td>Preliminary</td>\n",
       "      <td>6/1/2020</td>\n",
       "      <td>Fatal</td>\n",
       "    </tr>\n",
       "  </tbody>\n",
       "</table>\n",
       "<p>5 rows × 32 columns</p>\n",
       "</div>"
      ],
      "text/plain": [
       "         Event.Id Investigation.Type Accident.Number  Event.Date  \\\n",
       "0  20200102X82407           Accident      WPR20CA055  12/31/2019   \n",
       "1  20191231X83852           Accident      CEN20FA049  12/31/2019   \n",
       "2  20200102X54844           Accident      ANC20CA011  12/31/2019   \n",
       "3  20191230X91852           Accident      CEN20CA048  12/30/2019   \n",
       "5  20191228X23853           Accident      CEN20MA044  12/28/2019   \n",
       "\n",
       "        Location        Country   Latitude   Longitude Airport.Code  \\\n",
       "0        Elk, CA  United States  39.128611 -123.715833          LLR   \n",
       "1     OLATHE, KS  United States  38.846111  -94.736111          OJC   \n",
       "2  Fairbanks, AK  United States  64.666945 -148.133334          NaN   \n",
       "3   GRANBURY, TX  United States  32.365556  -97.645000          NaN   \n",
       "5  LAFAYETTE, LA  United States  30.176111  -92.007500          LFT   \n",
       "\n",
       "               Airport.Name    ...     Air.Carrier Total.Fatal.Injuries  \\\n",
       "0              Little River    ...             NaN                  NaN   \n",
       "1  Johnson County Executive    ...             NaN                  2.0   \n",
       "2                       NaN    ...             NaN                  NaN   \n",
       "3                       NaN    ...             NaN                  NaN   \n",
       "5    Lafayette Regional Apt    ...             NaN                  5.0   \n",
       "\n",
       "  Total.Serious.Injuries Total.Minor.Injuries Total.Uninjured  \\\n",
       "0                    NaN                  NaN             1.0   \n",
       "1                    NaN                  NaN             NaN   \n",
       "2                    NaN                  NaN             2.0   \n",
       "3                    NaN                  NaN             1.0   \n",
       "5                    2.0                  2.0             NaN   \n",
       "\n",
       "  Weather.Condition Broad.Phase.of.Flight  Report.Status Publication.Date  \\\n",
       "0               VMC               TAKEOFF        Factual       13/01/2020   \n",
       "1               VMC               TAKEOFF    Preliminary         8/1/2020   \n",
       "2               NaN                   NaN    Preliminary         2/1/2020   \n",
       "3               NaN                   NaN    Preliminary       31/12/2019   \n",
       "5               IMC               TAKEOFF    Preliminary         6/1/2020   \n",
       "\n",
       "    Severity  \n",
       "0  Non-Fatal  \n",
       "1      Fatal  \n",
       "2  Non-Fatal  \n",
       "3  Non-Fatal  \n",
       "5      Fatal  \n",
       "\n",
       "[5 rows x 32 columns]"
      ]
     },
     "execution_count": 20,
     "metadata": {},
     "output_type": "execute_result"
    }
   ],
   "source": [
    "accidents_only_df.head()"
   ]
  },
  {
   "cell_type": "code",
   "execution_count": null,
   "metadata": {},
   "outputs": [],
   "source": []
  },
  {
   "cell_type": "markdown",
   "metadata": {},
   "source": [
    "#### Conclusions from Aviation data exploration:\n",
    "\n",
    "- should clean the nan from Investigation.Type\n",
    "- all incidents involved no injuries\n",
    "- Injury.Severity could be further cleaned for Fatal\n",
    "- Event.Id can serve as primary key\n",
    "- need to filter for 2018 only\n",
    "- need to standardize some fields"
   ]
  },
  {
   "cell_type": "code",
   "execution_count": null,
   "metadata": {},
   "outputs": [],
   "source": []
  },
  {
   "cell_type": "markdown",
   "metadata": {},
   "source": [
    "## Preprocessing:"
   ]
  },
  {
   "cell_type": "markdown",
   "metadata": {},
   "source": [
    "#### Aviation Accident Preprocessing Goals:\n",
    "- events taking place in 2018\n",
    "- events taking place in the United States\n",
    "- standardize fields:\n",
    "    - Make\n",
    "    - Model\n",
    "    - Injury.Severity\n",
    "    - State/Location"
   ]
  },
  {
   "cell_type": "code",
   "execution_count": 21,
   "metadata": {},
   "outputs": [],
   "source": [
    "def preprocess_accident_data(accident_df):\n",
    "    \"\"\"Preprocess raw accident data df.\"\"\"\n",
    "    # filter:\n",
    "    # only accidents\n",
    "    accident_df = accident_df[accident_df[\"Investigation.Type\"]=='Accident']\n",
    "    # clean severity\n",
    "    accident_df['Severity'] = accident_df['Injury.Severity'].apply(lambda x: 'Fatal' if x[0]=='F' else x)\n",
    "    \n",
    "    # clean date field\n",
    "    accident_df['Event.Date'] = pd.to_datetime(accident_df['Event.Date'])\n",
    "    # standardize Make/Model fields\n",
    "    accident_df['Make'] = accident_df['Make'].str.lower()\n",
    "    accident_df['Model'] = accident_df['Model'].str.lower()\n",
    "    \n",
    "    # drop unnecessary features\n",
    "    del accident_df['Injury.Severity']\n",
    "    del accident_df['Location']\n",
    "    del accident_df['Latitude']\n",
    "    del accident_df['Longitude']\n",
    "    del accident_df['Report.Status']\n",
    "    del accident_df['Publication.Date']\n",
    "    del accident_df['Schedule']\n",
    "    del accident_df['Registration.Number']\n",
    "    del accident_df['Accident.Number']\n",
    "    del accident_df['Investigation.Type']\n",
    "    del accident_df['Total.Fatal.Injuries']\n",
    "    del accident_df['Total.Serious.Injuries']\n",
    "    del accident_df['Total.Minor.Injuries']\n",
    "    del accident_df['Total.Uninjured']\n",
    "    \n",
    "    accident_df = accident_df[accident_df['Severity'].isin(['Fatal','Non-Fatal'])]\n",
    "    \n",
    "    return accident_df"
   ]
  },
  {
   "cell_type": "code",
   "execution_count": null,
   "metadata": {},
   "outputs": [],
   "source": []
  },
  {
   "cell_type": "code",
   "execution_count": 22,
   "metadata": {},
   "outputs": [
    {
     "name": "stderr",
     "output_type": "stream",
     "text": [
      "c:\\users\\thoma\\appdata\\local\\programs\\python\\python36\\lib\\site-packages\\ipykernel_launcher.py:7: SettingWithCopyWarning: \n",
      "A value is trying to be set on a copy of a slice from a DataFrame.\n",
      "Try using .loc[row_indexer,col_indexer] = value instead\n",
      "\n",
      "See the caveats in the documentation: http://pandas.pydata.org/pandas-docs/stable/indexing.html#indexing-view-versus-copy\n",
      "  import sys\n",
      "c:\\users\\thoma\\appdata\\local\\programs\\python\\python36\\lib\\site-packages\\ipykernel_launcher.py:10: SettingWithCopyWarning: \n",
      "A value is trying to be set on a copy of a slice from a DataFrame.\n",
      "Try using .loc[row_indexer,col_indexer] = value instead\n",
      "\n",
      "See the caveats in the documentation: http://pandas.pydata.org/pandas-docs/stable/indexing.html#indexing-view-versus-copy\n",
      "  # Remove the CWD from sys.path while we load stuff.\n",
      "c:\\users\\thoma\\appdata\\local\\programs\\python\\python36\\lib\\site-packages\\ipykernel_launcher.py:12: SettingWithCopyWarning: \n",
      "A value is trying to be set on a copy of a slice from a DataFrame.\n",
      "Try using .loc[row_indexer,col_indexer] = value instead\n",
      "\n",
      "See the caveats in the documentation: http://pandas.pydata.org/pandas-docs/stable/indexing.html#indexing-view-versus-copy\n",
      "  if sys.path[0] == '':\n",
      "c:\\users\\thoma\\appdata\\local\\programs\\python\\python36\\lib\\site-packages\\ipykernel_launcher.py:13: SettingWithCopyWarning: \n",
      "A value is trying to be set on a copy of a slice from a DataFrame.\n",
      "Try using .loc[row_indexer,col_indexer] = value instead\n",
      "\n",
      "See the caveats in the documentation: http://pandas.pydata.org/pandas-docs/stable/indexing.html#indexing-view-versus-copy\n",
      "  del sys.path[0]\n"
     ]
    }
   ],
   "source": [
    "clean_accidents = preprocess_accident_data(accident_df)"
   ]
  },
  {
   "cell_type": "code",
   "execution_count": 23,
   "metadata": {},
   "outputs": [],
   "source": [
    "#clean_accidents = clean_accidents[clean_accidents['Severity'].isin(['Fatal','Non-Fatal'])]"
   ]
  },
  {
   "cell_type": "code",
   "execution_count": 24,
   "metadata": {},
   "outputs": [
    {
     "data": {
      "text/html": [
       "<div>\n",
       "<style scoped>\n",
       "    .dataframe tbody tr th:only-of-type {\n",
       "        vertical-align: middle;\n",
       "    }\n",
       "\n",
       "    .dataframe tbody tr th {\n",
       "        vertical-align: top;\n",
       "    }\n",
       "\n",
       "    .dataframe thead th {\n",
       "        text-align: right;\n",
       "    }\n",
       "</style>\n",
       "<table border=\"1\" class=\"dataframe\">\n",
       "  <thead>\n",
       "    <tr style=\"text-align: right;\">\n",
       "      <th></th>\n",
       "      <th>Event.Id</th>\n",
       "      <th>Event.Date</th>\n",
       "      <th>Country</th>\n",
       "      <th>Airport.Code</th>\n",
       "      <th>Airport.Name</th>\n",
       "      <th>Aircraft.Damage</th>\n",
       "      <th>Aircraft.Category</th>\n",
       "      <th>Make</th>\n",
       "      <th>Model</th>\n",
       "      <th>Amateur.Built</th>\n",
       "      <th>Number.of.Engines</th>\n",
       "      <th>Engine.Type</th>\n",
       "      <th>FAR.Description</th>\n",
       "      <th>Purpose.of.Flight</th>\n",
       "      <th>Air.Carrier</th>\n",
       "      <th>Weather.Condition</th>\n",
       "      <th>Broad.Phase.of.Flight</th>\n",
       "      <th>Severity</th>\n",
       "    </tr>\n",
       "  </thead>\n",
       "  <tbody>\n",
       "    <tr>\n",
       "      <th>0</th>\n",
       "      <td>20200102X82407</td>\n",
       "      <td>2019-12-31</td>\n",
       "      <td>United States</td>\n",
       "      <td>LLR</td>\n",
       "      <td>Little River</td>\n",
       "      <td>Substantial</td>\n",
       "      <td>Airplane</td>\n",
       "      <td>cessna</td>\n",
       "      <td>175</td>\n",
       "      <td>No</td>\n",
       "      <td>1.0</td>\n",
       "      <td>Reciprocating</td>\n",
       "      <td>Part 91: General Aviation</td>\n",
       "      <td>Personal</td>\n",
       "      <td>NaN</td>\n",
       "      <td>VMC</td>\n",
       "      <td>TAKEOFF</td>\n",
       "      <td>Non-Fatal</td>\n",
       "    </tr>\n",
       "    <tr>\n",
       "      <th>1</th>\n",
       "      <td>20191231X83852</td>\n",
       "      <td>2019-12-31</td>\n",
       "      <td>United States</td>\n",
       "      <td>OJC</td>\n",
       "      <td>Johnson County Executive</td>\n",
       "      <td>Destroyed</td>\n",
       "      <td>Airplane</td>\n",
       "      <td>mooney</td>\n",
       "      <td>m20s</td>\n",
       "      <td>No</td>\n",
       "      <td>1.0</td>\n",
       "      <td>Reciprocating</td>\n",
       "      <td>Part 91: General Aviation</td>\n",
       "      <td>Personal</td>\n",
       "      <td>NaN</td>\n",
       "      <td>VMC</td>\n",
       "      <td>TAKEOFF</td>\n",
       "      <td>Fatal</td>\n",
       "    </tr>\n",
       "    <tr>\n",
       "      <th>2</th>\n",
       "      <td>20200102X54844</td>\n",
       "      <td>2019-12-31</td>\n",
       "      <td>United States</td>\n",
       "      <td>NaN</td>\n",
       "      <td>NaN</td>\n",
       "      <td>Substantial</td>\n",
       "      <td>Airplane</td>\n",
       "      <td>cessna</td>\n",
       "      <td>170</td>\n",
       "      <td>No</td>\n",
       "      <td>1.0</td>\n",
       "      <td>NaN</td>\n",
       "      <td>Part 91: General Aviation</td>\n",
       "      <td>Personal</td>\n",
       "      <td>NaN</td>\n",
       "      <td>NaN</td>\n",
       "      <td>NaN</td>\n",
       "      <td>Non-Fatal</td>\n",
       "    </tr>\n",
       "    <tr>\n",
       "      <th>3</th>\n",
       "      <td>20191230X91852</td>\n",
       "      <td>2019-12-30</td>\n",
       "      <td>United States</td>\n",
       "      <td>NaN</td>\n",
       "      <td>NaN</td>\n",
       "      <td>Substantial</td>\n",
       "      <td>Airplane</td>\n",
       "      <td>vans</td>\n",
       "      <td>rv 10</td>\n",
       "      <td>Yes</td>\n",
       "      <td>NaN</td>\n",
       "      <td>NaN</td>\n",
       "      <td>Part 91: General Aviation</td>\n",
       "      <td>Personal</td>\n",
       "      <td>NaN</td>\n",
       "      <td>NaN</td>\n",
       "      <td>NaN</td>\n",
       "      <td>Non-Fatal</td>\n",
       "    </tr>\n",
       "    <tr>\n",
       "      <th>5</th>\n",
       "      <td>20191228X23853</td>\n",
       "      <td>2019-12-28</td>\n",
       "      <td>United States</td>\n",
       "      <td>LFT</td>\n",
       "      <td>Lafayette Regional Apt</td>\n",
       "      <td>Destroyed</td>\n",
       "      <td>Airplane</td>\n",
       "      <td>piper</td>\n",
       "      <td>pa 31t</td>\n",
       "      <td>No</td>\n",
       "      <td>2.0</td>\n",
       "      <td>Turbo Prop</td>\n",
       "      <td>Part 91: General Aviation</td>\n",
       "      <td>Executive/Corporate</td>\n",
       "      <td>NaN</td>\n",
       "      <td>IMC</td>\n",
       "      <td>TAKEOFF</td>\n",
       "      <td>Fatal</td>\n",
       "    </tr>\n",
       "  </tbody>\n",
       "</table>\n",
       "</div>"
      ],
      "text/plain": [
       "         Event.Id Event.Date        Country Airport.Code  \\\n",
       "0  20200102X82407 2019-12-31  United States          LLR   \n",
       "1  20191231X83852 2019-12-31  United States          OJC   \n",
       "2  20200102X54844 2019-12-31  United States          NaN   \n",
       "3  20191230X91852 2019-12-30  United States          NaN   \n",
       "5  20191228X23853 2019-12-28  United States          LFT   \n",
       "\n",
       "               Airport.Name Aircraft.Damage Aircraft.Category    Make   Model  \\\n",
       "0              Little River     Substantial          Airplane  cessna     175   \n",
       "1  Johnson County Executive       Destroyed          Airplane  mooney    m20s   \n",
       "2                       NaN     Substantial          Airplane  cessna     170   \n",
       "3                       NaN     Substantial          Airplane    vans   rv 10   \n",
       "5    Lafayette Regional Apt       Destroyed          Airplane   piper  pa 31t   \n",
       "\n",
       "  Amateur.Built  Number.of.Engines    Engine.Type            FAR.Description  \\\n",
       "0            No                1.0  Reciprocating  Part 91: General Aviation   \n",
       "1            No                1.0  Reciprocating  Part 91: General Aviation   \n",
       "2            No                1.0            NaN  Part 91: General Aviation   \n",
       "3           Yes                NaN            NaN  Part 91: General Aviation   \n",
       "5            No                2.0     Turbo Prop  Part 91: General Aviation   \n",
       "\n",
       "     Purpose.of.Flight Air.Carrier Weather.Condition Broad.Phase.of.Flight  \\\n",
       "0             Personal         NaN               VMC               TAKEOFF   \n",
       "1             Personal         NaN               VMC               TAKEOFF   \n",
       "2             Personal         NaN               NaN                   NaN   \n",
       "3             Personal         NaN               NaN                   NaN   \n",
       "5  Executive/Corporate         NaN               IMC               TAKEOFF   \n",
       "\n",
       "    Severity  \n",
       "0  Non-Fatal  \n",
       "1      Fatal  \n",
       "2  Non-Fatal  \n",
       "3  Non-Fatal  \n",
       "5      Fatal  "
      ]
     },
     "execution_count": 24,
     "metadata": {},
     "output_type": "execute_result"
    }
   ],
   "source": [
    "clean_accidents.head()"
   ]
  },
  {
   "cell_type": "code",
   "execution_count": 25,
   "metadata": {},
   "outputs": [
    {
     "data": {
      "text/plain": [
       "Index(['Event.Id', 'Event.Date', 'Country', 'Airport.Code', 'Airport.Name',\n",
       "       'Aircraft.Damage', 'Aircraft.Category', 'Make', 'Model',\n",
       "       'Amateur.Built', 'Number.of.Engines', 'Engine.Type', 'FAR.Description',\n",
       "       'Purpose.of.Flight', 'Air.Carrier', 'Weather.Condition',\n",
       "       'Broad.Phase.of.Flight', 'Severity'],\n",
       "      dtype='object')"
      ]
     },
     "execution_count": 25,
     "metadata": {},
     "output_type": "execute_result"
    }
   ],
   "source": [
    "clean_accidents.columns"
   ]
  },
  {
   "cell_type": "code",
   "execution_count": 26,
   "metadata": {},
   "outputs": [
    {
     "data": {
      "text/plain": [
       "(80493, 18)"
      ]
     },
     "execution_count": 26,
     "metadata": {},
     "output_type": "execute_result"
    }
   ],
   "source": [
    "clean_accidents.shape"
   ]
  },
  {
   "cell_type": "code",
   "execution_count": 27,
   "metadata": {},
   "outputs": [
    {
     "data": {
      "text/plain": [
       "Event.Id                     0\n",
       "Event.Date                   0\n",
       "Country                    461\n",
       "Airport.Code             34763\n",
       "Airport.Name             32107\n",
       "Aircraft.Damage           1190\n",
       "Aircraft.Category        54516\n",
       "Make                        36\n",
       "Model                       59\n",
       "Amateur.Built              321\n",
       "Number.of.Engines         3971\n",
       "Engine.Type               3186\n",
       "FAR.Description          54667\n",
       "Purpose.of.Flight         3259\n",
       "Air.Carrier              77390\n",
       "Weather.Condition         1953\n",
       "Broad.Phase.of.Flight     5566\n",
       "Severity                     0\n",
       "dtype: int64"
      ]
     },
     "execution_count": 27,
     "metadata": {},
     "output_type": "execute_result"
    }
   ],
   "source": [
    "clean_accidents.isnull().sum()"
   ]
  },
  {
   "cell_type": "code",
   "execution_count": 28,
   "metadata": {},
   "outputs": [
    {
     "data": {
      "text/html": [
       "<div>\n",
       "<style scoped>\n",
       "    .dataframe tbody tr th:only-of-type {\n",
       "        vertical-align: middle;\n",
       "    }\n",
       "\n",
       "    .dataframe tbody tr th {\n",
       "        vertical-align: top;\n",
       "    }\n",
       "\n",
       "    .dataframe thead th {\n",
       "        text-align: right;\n",
       "    }\n",
       "</style>\n",
       "<table border=\"1\" class=\"dataframe\">\n",
       "  <thead>\n",
       "    <tr style=\"text-align: right;\">\n",
       "      <th></th>\n",
       "      <th>Event.Id</th>\n",
       "    </tr>\n",
       "    <tr>\n",
       "      <th>Weather.Condition</th>\n",
       "      <th></th>\n",
       "    </tr>\n",
       "  </thead>\n",
       "  <tbody>\n",
       "    <tr>\n",
       "      <th>IMC</th>\n",
       "      <td>5566</td>\n",
       "    </tr>\n",
       "    <tr>\n",
       "      <th>UNK</th>\n",
       "      <td>888</td>\n",
       "    </tr>\n",
       "    <tr>\n",
       "      <th>VMC</th>\n",
       "      <td>71068</td>\n",
       "    </tr>\n",
       "  </tbody>\n",
       "</table>\n",
       "</div>"
      ],
      "text/plain": [
       "                   Event.Id\n",
       "Weather.Condition          \n",
       "IMC                    5566\n",
       "UNK                     888\n",
       "VMC                   71068"
      ]
     },
     "execution_count": 28,
     "metadata": {},
     "output_type": "execute_result"
    }
   ],
   "source": [
    "clean_accidents.groupby(['Weather.Condition'])['Event.Id'].nunique().to_frame()"
   ]
  },
  {
   "cell_type": "code",
   "execution_count": 29,
   "metadata": {},
   "outputs": [
    {
     "data": {
      "text/html": [
       "<div>\n",
       "<style scoped>\n",
       "    .dataframe tbody tr th:only-of-type {\n",
       "        vertical-align: middle;\n",
       "    }\n",
       "\n",
       "    .dataframe tbody tr th {\n",
       "        vertical-align: top;\n",
       "    }\n",
       "\n",
       "    .dataframe thead th {\n",
       "        text-align: right;\n",
       "    }\n",
       "</style>\n",
       "<table border=\"1\" class=\"dataframe\">\n",
       "  <thead>\n",
       "    <tr style=\"text-align: right;\">\n",
       "      <th></th>\n",
       "      <th>Event.Id</th>\n",
       "    </tr>\n",
       "    <tr>\n",
       "      <th>Severity</th>\n",
       "      <th></th>\n",
       "    </tr>\n",
       "  </thead>\n",
       "  <tbody>\n",
       "    <tr>\n",
       "      <th>Fatal</th>\n",
       "      <td>16614</td>\n",
       "    </tr>\n",
       "    <tr>\n",
       "      <th>Non-Fatal</th>\n",
       "      <td>62828</td>\n",
       "    </tr>\n",
       "  </tbody>\n",
       "</table>\n",
       "</div>"
      ],
      "text/plain": [
       "           Event.Id\n",
       "Severity           \n",
       "Fatal         16614\n",
       "Non-Fatal     62828"
      ]
     },
     "execution_count": 29,
     "metadata": {},
     "output_type": "execute_result"
    }
   ],
   "source": [
    "clean_accidents.groupby(['Severity'])['Event.Id'].nunique().to_frame()"
   ]
  },
  {
   "cell_type": "code",
   "execution_count": 30,
   "metadata": {},
   "outputs": [
    {
     "data": {
      "text/plain": [
       "{'Fatal', 'Non-Fatal'}"
      ]
     },
     "execution_count": 30,
     "metadata": {},
     "output_type": "execute_result"
    }
   ],
   "source": [
    "set(clean_accidents['Severity'])"
   ]
  },
  {
   "cell_type": "markdown",
   "metadata": {},
   "source": [
    "#### Prepare dataset for scikit learn:"
   ]
  },
  {
   "cell_type": "code",
   "execution_count": 31,
   "metadata": {},
   "outputs": [],
   "source": [
    "from sklearn.tree import DecisionTreeClassifier, export_graphviz"
   ]
  },
  {
   "cell_type": "code",
   "execution_count": 32,
   "metadata": {},
   "outputs": [],
   "source": [
    "# tbh i did not use this , it didnt seem to work 100%, i was getting errors about converting floats to ints.  instead used preprocessing built into sklearn\n",
    "\n",
    "def encode_target(df, target_column):\n",
    "    \"\"\"Add column to df with integers for the target.\"\"\"\n",
    "    df_mod = df.copy()\n",
    "    targets = df_mod[target_column].unique()\n",
    "    map_to_int = {name: n for n, name in enumerate(targets)}\n",
    "    df_mod[\"Target\"] = df_mod[target_column].replace(map_to_int)\n",
    "\n",
    "    return (df_mod, targets)"
   ]
  },
  {
   "cell_type": "code",
   "execution_count": 33,
   "metadata": {},
   "outputs": [],
   "source": [
    "# categorical_features = cat_feet \n",
    "paws = ['Event.Date',\n",
    "'Country',\n",
    "'Airport.Code',\n",
    "'Airport.Name',\n",
    "'Aircraft.Damage',\n",
    "'Aircraft.Category',\n",
    "'Make',\n",
    "'Model',\n",
    "'Amateur.Built',\n",
    "'Engine.Type',\n",
    "'FAR.Description',\n",
    "'Purpose.of.Flight',\n",
    "'Air.Carrier',\n",
    "'Weather.Condition',\n",
    "'Broad.Phase.of.Flight']"
   ]
  },
  {
   "cell_type": "code",
   "execution_count": 34,
   "metadata": {},
   "outputs": [],
   "source": [
    "import matplotlib.pyplot as plt\n",
    "from matplotlib.colors import ListedColormap"
   ]
  },
  {
   "cell_type": "code",
   "execution_count": 35,
   "metadata": {},
   "outputs": [],
   "source": [
    "COLOR = 'white'\n",
    "plt.rcParams['axes.labelcolor'] = COLOR\n",
    "plt.rcParams['xtick.color'] = COLOR\n",
    "plt.rcParams['ytick.color'] = COLOR"
   ]
  },
  {
   "cell_type": "code",
   "execution_count": 36,
   "metadata": {},
   "outputs": [],
   "source": [
    "def plot_confusion_matrix(y_true, y_pred, classes,\n",
    "                          normalize=False,\n",
    "                          title=None,\n",
    "                          cmap=plt.cm.Blues):\n",
    "    \"\"\"\n",
    "    This function prints and plots the confusion matrix.\n",
    "    Normalization can be applied by setting `normalize=True`.\n",
    "    \"\"\"\n",
    "    if not title:\n",
    "        if normalize:\n",
    "            title = ''\n",
    "        else:\n",
    "            title = ''\n",
    "\n",
    "    # Compute confusion matrix\n",
    "    cm = confusion_matrix(y_true, y_pred)\n",
    "    # Only use the labels that appear in the data\n",
    "    #classes = classes[unique_labels(y_true, y_pred)]\n",
    "    if normalize:\n",
    "        cm = cm.astype('float') / cm.sum(axis=1)[:, np.newaxis]\n",
    "        print(\"Normalized confusion matrix\")\n",
    "    else:\n",
    "        print('Confusion matrix, without normalization')\n",
    "\n",
    "    #print(cm)\n",
    "\n",
    "    fig, ax = plt.subplots()\n",
    "    im = ax.imshow(cm, interpolation='nearest', cmap=cmap)\n",
    "    ax.figure.colorbar(im, ax=ax)\n",
    "    # We want to show all ticks...\n",
    "    ax.set(xticks=np.arange(cm.shape[1]),\n",
    "           yticks=np.arange(cm.shape[0]),\n",
    "           # ... and label them with the respective list entries\n",
    "           xticklabels=classes, yticklabels=classes,\n",
    "           title=title,\n",
    "           ylabel='True label',\n",
    "           xlabel='Predicted label')\n",
    "\n",
    "    # Rotate the tick labels and set their alignment.\n",
    "    plt.setp(ax.get_xticklabels(), rotation=45, ha=\"right\",\n",
    "             rotation_mode=\"anchor\")\n",
    "\n",
    "    # Loop over data dimensions and create text annotations.\n",
    "    fmt = '.2f' if normalize else 'd'\n",
    "    thresh = cm.max() / 2.\n",
    "    for i in range(cm.shape[0]):\n",
    "        for j in range(cm.shape[1]):\n",
    "            ax.text(j, i, format(cm[i, j], fmt),\n",
    "                    ha=\"center\", va=\"center\",\n",
    "                    color=\"white\" if cm[i, j] > thresh else \"black\")\n",
    "    fig.tight_layout()\n",
    "    return ax"
   ]
  },
  {
   "cell_type": "code",
   "execution_count": 37,
   "metadata": {},
   "outputs": [],
   "source": [
    "classes = ['Fatal', 'Non-Fatal']"
   ]
  },
  {
   "cell_type": "code",
   "execution_count": 38,
   "metadata": {
    "scrolled": false
   },
   "outputs": [
    {
     "name": "stdout",
     "output_type": "stream",
     "text": [
      "{'Non-Fatal', 'Fatal'}\n",
      "classifier: Decision Tree\n",
      "test size: 0.1\n",
      "Mean p & r 0.63 0.31\n",
      "Normalized confusion matrix\n"
     ]
    },
    {
     "data": {
      "image/png": "[encoded data removed]",
      "text/plain": [
       "<Figure size 432x288 with 2 Axes>"
      ]
     },
     "metadata": {},
     "output_type": "display_data"
    },
    {
     "name": "stdout",
     "output_type": "stream",
     "text": [
      "classifier: Decision Tree\n",
      "[0.63] \n",
      " [0.31]\n",
      "test size: 0.2\n",
      "Mean p & r 0.625 0.31\n",
      "Normalized confusion matrix\n"
     ]
    },
    {
     "data": {
      "image/png": "[encoded data removed]",
      "text/plain": [
       "<Figure size 432x288 with 2 Axes>"
      ]
     },
     "metadata": {},
     "output_type": "display_data"
    },
    {
     "name": "stdout",
     "output_type": "stream",
     "text": [
      "classifier: Decision Tree\n",
      "[0.63, 0.62] \n",
      " [0.31, 0.31]\n",
      "test size: 0.3\n",
      "Mean p & r 0.6333 0.31\n",
      "Normalized confusion matrix\n"
     ]
    },
    {
     "data": {
      "image/png": "[encoded data removed]",
      "text/plain": [
       "<Figure size 432x288 with 2 Axes>"
      ]
     },
     "metadata": {},
     "output_type": "display_data"
    },
    {
     "name": "stdout",
     "output_type": "stream",
     "text": [
      "classifier: Decision Tree\n",
      "[0.63, 0.62, 0.65] \n",
      " [0.31, 0.31, 0.31]\n",
      "test size: 0.4\n",
      "Mean p & r 0.6325 0.305\n",
      "Normalized confusion matrix\n"
     ]
    },
    {
     "data": {
      "image/png": "[encoded data removed]",
      "text/plain": [
       "<Figure size 432x288 with 2 Axes>"
      ]
     },
     "metadata": {},
     "output_type": "display_data"
    },
    {
     "name": "stdout",
     "output_type": "stream",
     "text": [
      "classifier: Decision Tree\n",
      "[0.63, 0.62, 0.65, 0.63] \n",
      " [0.31, 0.31, 0.31, 0.29]\n",
      "test size: 0.5\n",
      "Mean p & r 0.632 0.304\n",
      "Normalized confusion matrix\n"
     ]
    },
    {
     "data": {
      "image/png": "[encoded data removed]",
      "text/plain": [
       "<Figure size 432x288 with 2 Axes>"
      ]
     },
     "metadata": {},
     "output_type": "display_data"
    },
    {
     "name": "stdout",
     "output_type": "stream",
     "text": [
      "classifier: Decision Tree\n",
      "[0.63, 0.62, 0.65, 0.63, 0.63] \n",
      " [0.31, 0.31, 0.31, 0.29, 0.3]\n",
      "test size: 0.6\n",
      "Mean p & r 0.6317 0.3033\n",
      "Normalized confusion matrix\n"
     ]
    },
    {
     "data": {
      "image/png": "[encoded data removed]",
      "text/plain": [
       "<Figure size 432x288 with 2 Axes>"
      ]
     },
     "metadata": {},
     "output_type": "display_data"
    },
    {
     "name": "stdout",
     "output_type": "stream",
     "text": [
      "classifier: Decision Tree\n",
      "[0.63, 0.62, 0.65, 0.63, 0.63, 0.63] \n",
      " [0.31, 0.31, 0.31, 0.29, 0.3, 0.3]\n",
      "test size: 0.7\n",
      "Mean p & r 0.6329 0.2957\n",
      "Normalized confusion matrix\n"
     ]
    },
    {
     "data": {
      "image/png": "[encoded data removed]",
      "text/plain": [
       "<Figure size 432x288 with 2 Axes>"
      ]
     },
     "metadata": {},
     "output_type": "display_data"
    },
    {
     "name": "stdout",
     "output_type": "stream",
     "text": [
      "classifier: Decision Tree\n",
      "[0.63, 0.62, 0.65, 0.63, 0.63, 0.63, 0.64] \n",
      " [0.31, 0.31, 0.31, 0.29, 0.3, 0.3, 0.25]\n",
      "test size: 0.8\n",
      "Mean p & r 0.635 0.29\n",
      "Normalized confusion matrix\n"
     ]
    },
    {
     "data": {
      "image/png": "[encoded data removed]",
      "text/plain": [
       "<Figure size 432x288 with 2 Axes>"
      ]
     },
     "metadata": {},
     "output_type": "display_data"
    },
    {
     "name": "stdout",
     "output_type": "stream",
     "text": [
      "classifier: Decision Tree\n",
      "[0.63, 0.62, 0.65, 0.63, 0.63, 0.63, 0.64, 0.65] \n",
      " [0.31, 0.31, 0.31, 0.29, 0.3, 0.3, 0.25, 0.25]\n",
      "test size: 0.9\n",
      "Mean p & r 0.6333 0.2911\n",
      "Normalized confusion matrix\n"
     ]
    },
    {
     "data": {
      "image/png": "[encoded data removed]",
      "text/plain": [
       "<Figure size 432x288 with 2 Axes>"
      ]
     },
     "metadata": {},
     "output_type": "display_data"
    },
    {
     "name": "stdout",
     "output_type": "stream",
     "text": [
      "classifier: Decision Tree\n",
      "[0.63, 0.62, 0.65, 0.63, 0.63, 0.63, 0.64, 0.65, 0.62] \n",
      " [0.31, 0.31, 0.31, 0.29, 0.3, 0.3, 0.25, 0.25, 0.3]\n"
     ]
    },
    {
     "data": {
      "image/png": "[encoded data removed]",
      "text/plain": [
       "<Figure size 432x288 with 1 Axes>"
      ]
     },
     "metadata": {},
     "output_type": "display_data"
    },
    {
     "name": "stdout",
     "output_type": "stream",
     "text": [
      "classifier: AdaBoost\n",
      "test size: 0.1\n",
      "Mean p & r 0.62 0.27\n",
      "Normalized confusion matrix\n"
     ]
    },
    {
     "data": {
      "image/png": "[encoded data removed]",
      "text/plain": [
       "<Figure size 432x288 with 2 Axes>"
      ]
     },
     "metadata": {},
     "output_type": "display_data"
    },
    {
     "name": "stdout",
     "output_type": "stream",
     "text": [
      "classifier: AdaBoost\n",
      "[0.62] \n",
      " [0.27]\n",
      "test size: 0.2\n",
      "Mean p & r 0.615 0.275\n",
      "Normalized confusion matrix\n"
     ]
    },
    {
     "data": {
      "image/png": "[encoded data removed]",
      "text/plain": [
       "<Figure size 432x288 with 2 Axes>"
      ]
     },
     "metadata": {},
     "output_type": "display_data"
    },
    {
     "name": "stdout",
     "output_type": "stream",
     "text": [
      "classifier: AdaBoost\n",
      "[0.62, 0.61] \n",
      " [0.27, 0.28]\n",
      "test size: 0.3\n",
      "Mean p & r 0.6267 0.2767\n",
      "Normalized confusion matrix\n"
     ]
    },
    {
     "data": {
      "image/png": "[encoded data removed]",
      "text/plain": [
       "<Figure size 432x288 with 2 Axes>"
      ]
     },
     "metadata": {},
     "output_type": "display_data"
    },
    {
     "name": "stdout",
     "output_type": "stream",
     "text": [
      "classifier: AdaBoost\n",
      "[0.62, 0.61, 0.65] \n",
      " [0.27, 0.28, 0.28]\n",
      "test size: 0.4\n",
      "Mean p & r 0.6275 0.2775\n",
      "Normalized confusion matrix\n"
     ]
    },
    {
     "data": {
      "image/png": "[encoded data removed]",
      "text/plain": [
       "<Figure size 432x288 with 2 Axes>"
      ]
     },
     "metadata": {},
     "output_type": "display_data"
    },
    {
     "name": "stdout",
     "output_type": "stream",
     "text": [
      "classifier: AdaBoost\n",
      "[0.62, 0.61, 0.65, 0.63] \n",
      " [0.27, 0.28, 0.28, 0.28]\n",
      "test size: 0.5\n",
      "Mean p & r 0.63 0.278\n",
      "Normalized confusion matrix\n"
     ]
    },
    {
     "data": {
      "image/png": "[encoded data removed]",
      "text/plain": [
       "<Figure size 432x288 with 2 Axes>"
      ]
     },
     "metadata": {},
     "output_type": "display_data"
    },
    {
     "name": "stdout",
     "output_type": "stream",
     "text": [
      "classifier: AdaBoost\n",
      "[0.62, 0.61, 0.65, 0.63, 0.64] \n",
      " [0.27, 0.28, 0.28, 0.28, 0.28]\n",
      "test size: 0.6\n",
      "Mean p & r 0.6317 0.2783\n",
      "Normalized confusion matrix\n"
     ]
    },
    {
     "data": {
      "image/png": "[encoded data removed]",
      "text/plain": [
       "<Figure size 432x288 with 2 Axes>"
      ]
     },
     "metadata": {},
     "output_type": "display_data"
    },
    {
     "name": "stdout",
     "output_type": "stream",
     "text": [
      "classifier: AdaBoost\n",
      "[0.62, 0.61, 0.65, 0.63, 0.64, 0.64] \n",
      " [0.27, 0.28, 0.28, 0.28, 0.28, 0.28]\n",
      "test size: 0.7\n",
      "Mean p & r 0.6314 0.28\n",
      "Normalized confusion matrix\n"
     ]
    },
    {
     "data": {
      "image/png": "[encoded data removed]",
      "text/plain": [
       "<Figure size 432x288 with 2 Axes>"
      ]
     },
     "metadata": {},
     "output_type": "display_data"
    },
    {
     "name": "stdout",
     "output_type": "stream",
     "text": [
      "classifier: AdaBoost\n",
      "[0.62, 0.61, 0.65, 0.63, 0.64, 0.64, 0.63] \n",
      " [0.27, 0.28, 0.28, 0.28, 0.28, 0.28, 0.29]\n",
      "test size: 0.8\n",
      "Mean p & r 0.6312 0.2812\n",
      "Normalized confusion matrix\n"
     ]
    },
    {
     "data": {
      "image/png": "[encoded data removed]",
      "text/plain": [
       "<Figure size 432x288 with 2 Axes>"
      ]
     },
     "metadata": {},
     "output_type": "display_data"
    },
    {
     "name": "stdout",
     "output_type": "stream",
     "text": [
      "classifier: AdaBoost\n",
      "[0.62, 0.61, 0.65, 0.63, 0.64, 0.64, 0.63, 0.63] \n",
      " [0.27, 0.28, 0.28, 0.28, 0.28, 0.28, 0.29, 0.29]\n",
      "test size: 0.9\n",
      "Mean p & r 0.6289 0.2833\n",
      "Normalized confusion matrix\n"
     ]
    },
    {
     "data": {
      "image/png": "[encoded data removed]",
      "text/plain": [
       "<Figure size 432x288 with 2 Axes>"
      ]
     },
     "metadata": {},
     "output_type": "display_data"
    },
    {
     "name": "stdout",
     "output_type": "stream",
     "text": [
      "classifier: AdaBoost\n",
      "[0.62, 0.61, 0.65, 0.63, 0.64, 0.64, 0.63, 0.63, 0.61] \n",
      " [0.27, 0.28, 0.28, 0.28, 0.28, 0.28, 0.29, 0.29, 0.3]\n"
     ]
    },
    {
     "data": {
      "image/png": "[encoded data removed]",
      "text/plain": [
       "<Figure size 432x288 with 1 Axes>"
      ]
     },
     "metadata": {},
     "output_type": "display_data"
    },
    {
     "name": "stdout",
     "output_type": "stream",
     "text": [
      "classifier: gradaboost\n",
      "test size: 0.1\n",
      "Mean p & r 0.62 0.28\n",
      "Normalized confusion matrix\n"
     ]
    },
    {
     "data": {
      "image/png": "[encoded data removed]",
      "text/plain": [
       "<Figure size 432x288 with 2 Axes>"
      ]
     },
     "metadata": {},
     "output_type": "display_data"
    },
    {
     "name": "stdout",
     "output_type": "stream",
     "text": [
      "classifier: gradaboost\n",
      "[0.62] \n",
      " [0.28]\n",
      "test size: 0.2\n",
      "Mean p & r 0.62 0.29\n",
      "Normalized confusion matrix\n"
     ]
    },
    {
     "data": {
      "image/png": "[encoded data removed]",
      "text/plain": [
       "<Figure size 432x288 with 2 Axes>"
      ]
     },
     "metadata": {},
     "output_type": "display_data"
    },
    {
     "name": "stdout",
     "output_type": "stream",
     "text": [
      "classifier: gradaboost\n",
      "[0.62, 0.62] \n",
      " [0.28, 0.3]\n",
      "test size: 0.3\n",
      "Mean p & r 0.6267 0.2933\n",
      "Normalized confusion matrix\n"
     ]
    },
    {
     "data": {
      "image/png": "[encoded data removed]",
      "text/plain": [
       "<Figure size 432x288 with 2 Axes>"
      ]
     },
     "metadata": {},
     "output_type": "display_data"
    },
    {
     "name": "stdout",
     "output_type": "stream",
     "text": [
      "classifier: gradaboost\n",
      "[0.62, 0.62, 0.64] \n",
      " [0.28, 0.3, 0.3]\n",
      "test size: 0.4\n",
      "Mean p & r 0.63 0.295\n",
      "Normalized confusion matrix\n"
     ]
    },
    {
     "data": {
      "image/png": "[encoded data removed]",
      "text/plain": [
       "<Figure size 432x288 with 2 Axes>"
      ]
     },
     "metadata": {},
     "output_type": "display_data"
    },
    {
     "name": "stdout",
     "output_type": "stream",
     "text": [
      "classifier: gradaboost\n",
      "[0.62, 0.62, 0.64, 0.64] \n",
      " [0.28, 0.3, 0.3, 0.3]\n",
      "test size: 0.5\n",
      "Mean p & r 0.63 0.296\n",
      "Normalized confusion matrix\n"
     ]
    },
    {
     "data": {
      "image/png": "[encoded data removed]",
      "text/plain": [
       "<Figure size 432x288 with 2 Axes>"
      ]
     },
     "metadata": {},
     "output_type": "display_data"
    },
    {
     "name": "stdout",
     "output_type": "stream",
     "text": [
      "classifier: gradaboost\n",
      "[0.62, 0.62, 0.64, 0.64, 0.63] \n",
      " [0.28, 0.3, 0.3, 0.3, 0.3]\n",
      "test size: 0.6\n",
      "Mean p & r 0.63 0.295\n",
      "Normalized confusion matrix\n"
     ]
    },
    {
     "data": {
      "image/png": "[encoded data removed]",
      "text/plain": [
       "<Figure size 432x288 with 2 Axes>"
      ]
     },
     "metadata": {},
     "output_type": "display_data"
    },
    {
     "name": "stdout",
     "output_type": "stream",
     "text": [
      "classifier: gradaboost\n",
      "[0.62, 0.62, 0.64, 0.64, 0.63, 0.63] \n",
      " [0.28, 0.3, 0.3, 0.3, 0.3, 0.29]\n",
      "test size: 0.7\n",
      "Mean p & r 0.6314 0.2957\n",
      "Normalized confusion matrix\n"
     ]
    },
    {
     "data": {
      "image/png": "[encoded data removed]",
      "text/plain": [
       "<Figure size 432x288 with 2 Axes>"
      ]
     },
     "metadata": {},
     "output_type": "display_data"
    },
    {
     "name": "stdout",
     "output_type": "stream",
     "text": [
      "classifier: gradaboost\n",
      "[0.62, 0.62, 0.64, 0.64, 0.63, 0.63, 0.64] \n",
      " [0.28, 0.3, 0.3, 0.3, 0.3, 0.29, 0.3]\n",
      "test size: 0.8\n",
      "Mean p & r 0.6312 0.295\n",
      "Normalized confusion matrix\n"
     ]
    },
    {
     "data": {
      "image/png": "[encoded data removed]",
      "text/plain": [
       "<Figure size 432x288 with 2 Axes>"
      ]
     },
     "metadata": {},
     "output_type": "display_data"
    },
    {
     "name": "stdout",
     "output_type": "stream",
     "text": [
      "classifier: gradaboost\n",
      "[0.62, 0.62, 0.64, 0.64, 0.63, 0.63, 0.64, 0.63] \n",
      " [0.28, 0.3, 0.3, 0.3, 0.3, 0.29, 0.3, 0.29]\n",
      "test size: 0.9\n",
      "Mean p & r 0.6311 0.2956\n",
      "Normalized confusion matrix\n"
     ]
    },
    {
     "data": {
      "image/png": "[encoded data removed]",
      "text/plain": [
       "<Figure size 432x288 with 2 Axes>"
      ]
     },
     "metadata": {},
     "output_type": "display_data"
    },
    {
     "name": "stdout",
     "output_type": "stream",
     "text": [
      "classifier: gradaboost\n",
      "[0.62, 0.62, 0.64, 0.64, 0.63, 0.63, 0.64, 0.63, 0.63] \n",
      " [0.28, 0.3, 0.3, 0.3, 0.3, 0.29, 0.3, 0.29, 0.3]\n"
     ]
    },
    {
     "data": {
      "image/png": "[encoded data removed]",
      "text/plain": [
       "<Figure size 432x288 with 1 Axes>"
      ]
     },
     "metadata": {},
     "output_type": "display_data"
    }
   ],
   "source": [
    "# this is the cell where it all happens\n",
    "\n",
    "from sklearn.compose import ColumnTransformer\n",
    "from sklearn.datasets import fetch_openml\n",
    "from sklearn.pipeline import Pipeline\n",
    "from sklearn.impute import SimpleImputer\n",
    "from sklearn.preprocessing import StandardScaler, OneHotEncoder\n",
    "from sklearn.linear_model import LogisticRegression\n",
    "from sklearn.model_selection import train_test_split, GridSearchCV\n",
    "from sklearn.metrics import confusion_matrix\n",
    "\n",
    "import numpy as np\n",
    "import matplotlib.pyplot as plt\n",
    "from matplotlib.colors import ListedColormap\n",
    "from sklearn.model_selection import train_test_split\n",
    "from sklearn.preprocessing import StandardScaler\n",
    "from sklearn.datasets import make_moons, make_circles, make_classification\n",
    "from sklearn.neural_network import MLPClassifier\n",
    "from sklearn.neighbors import KNeighborsClassifier\n",
    "from sklearn.svm import SVC\n",
    "from sklearn.gaussian_process import GaussianProcessClassifier\n",
    "from sklearn.gaussian_process.kernels import RBF\n",
    "from sklearn.tree import DecisionTreeClassifier\n",
    "from sklearn.ensemble import RandomForestClassifier, AdaBoostClassifier, ExtraTreesClassifier, GradientBoostingClassifier\n",
    "from sklearn.naive_bayes import GaussianNB\n",
    "from sklearn.discriminant_analysis import QuadraticDiscriminantAnalysis\n",
    "\n",
    "\n",
    "\n",
    "features = ['Weather.Condition','Make','Model']\n",
    "X = clean_accidents[paws + ['Number.of.Engines']]\n",
    "y = clean_accidents['Severity']\n",
    "\n",
    "print(set(y))\n",
    "\n",
    "# https://scikit-learn.org/stable/auto_examples/classification/plot_classifier_comparison.html\n",
    "names = [\"Decision Tree\", \"AdaBoost\", \"gradaboost\"]\n",
    "# \"nearest neighbors\",\n",
    "classifiers = [\n",
    "    \n",
    "    # stripped out most classifiers as they either - threw erros with our data types, or took too long run such that i couldnt reasonably test them\n",
    "    #KNeighborsClassifier(3),\n",
    "    #SVC(kernel=\"linear\", C=0.025),\n",
    "    #SVC(gamma=2, C=1),\n",
    "    \n",
    "    DecisionTreeClassifier(max_depth=5),\n",
    "    \n",
    "    #RandomForestClassifier(max_depth=5, n_estimators=10, max_features=1),\n",
    "    #MLPClassifier(alpha=1, max_iter=5)]\n",
    "    \n",
    "    AdaBoostClassifier(),\n",
    "    GradientBoostingClassifier()]\n",
    "\n",
    "    #BaggingClassifier()]\n",
    "    #GaussianNB()]\n",
    "    #QuadraticDiscriminantAnalysis()]\n",
    "\n",
    "# here we set up transformation and normalization of data\n",
    "# source: https://scikit-learn.org/stable/auto_examples/compose/plot_column_transformer_mixed_types.html\n",
    "numeric_features = ['Number.of.Engines']\n",
    "numeric_transformer = Pipeline(steps=[\n",
    "    ('imputer', SimpleImputer(strategy='median')),\n",
    "    ('scaler', StandardScaler())])\n",
    "\n",
    "categorical_features = features\n",
    "categorical_transformer = Pipeline(steps=[\n",
    "    ('imputer', SimpleImputer(strategy='constant', fill_value='missing')),\n",
    "    ('onehot', OneHotEncoder(handle_unknown='ignore'))])\n",
    "\n",
    "preprocessor = ColumnTransformer(\n",
    "    transformers=[ ('num', numeric_transformer, numeric_features),\n",
    "                  ('cat', categorical_transformer, categorical_features)])\n",
    "\n",
    "# Append classifier to preprocessing pipeline.\n",
    "# Now we have a full prediction pipeline.\n",
    "tsizes = [0.1,0.2,0.3,0.4,0.5,0.6,0.7,0.8,0.9]\n",
    "\n",
    "# loop through classifiers, for each classifier test performance when using various sample sizes.  chart precision vs recall for each classifier\n",
    "for classifier in classifiers:\n",
    "    print(f'classifier: {names[classifiers.index(classifier)]}')\n",
    "    clf = Pipeline(steps=[('preprocessor', preprocessor),\n",
    "                          ('classifier', classifier)])\n",
    "    tsize_precision = []\n",
    "    tsize_recall = []\n",
    "    for tsize in tsizes:\n",
    "        print(f'test size: {tsize}')\n",
    "        X_train, X_test, y_train, y_test = train_test_split(X, y, test_size=tsize)\n",
    "\n",
    "        clf.fit(X_train, y_train)\n",
    "\n",
    "        tn, fp, fn, tp = confusion_matrix(y_test, clf.predict(X_test), labels=['Non-Fatal', 'Fatal']).ravel()\n",
    "        precision = (tp)/(tp+fp)\n",
    "        recall = (tp)/(fn+tp)\n",
    "        tsize_precision.append(round(precision,2))\n",
    "        tsize_recall.append(round(recall,2))\n",
    "        print('Mean p & r',round(sum(tsize_precision)/len(tsize_precision),4),round(sum(tsize_recall)/len(tsize_recall),4))\n",
    "        labels=['Non-Fatal', 'Fatal']\n",
    "        classes = labels\n",
    "        plot_confusion_matrix(y_test, clf.predict(X_test), classes,\n",
    "                          normalize=True,\n",
    "                          title=None,\n",
    "                          cmap=plt.cm.Blues)\n",
    "        plt.show()\n",
    "        print(f'classifier: {names[classifiers.index(classifier)]}')\n",
    "        print(tsize_precision, '\\n',tsize_recall)\n",
    "\n",
    "        \n",
    "    \n",
    "    plt.plot(tsizes, tsize_precision)\n",
    "    plt.plot(tsizes, tsize_recall)\n",
    "    plt.title('Precision & Recall by Training Set Size',color='white')\n",
    "    plt.ylim=([0,100])\n",
    "    plt.show()\n",
    "    \n",
    "    \n",
    "#plt.title('Precision & Recall by Training Set Size',color='white')\n",
    "#plt.ylim=(0,100)\n",
    "#plt.show()\n",
    "    \n"
   ]
  },
  {
   "cell_type": "code",
   "execution_count": 39,
   "metadata": {},
   "outputs": [],
   "source": [
    "decsion_tree_df = pd.DataFrame({'Test Size':[0.2,0.4,0.6,0.8],\n",
    "                         'Precision':[0.63,0.62,0.63,0.62],\n",
    "                         'Recall':[0.29,0.29,0.29,0.29]\n",
    "                        })"
   ]
  },
  {
   "cell_type": "code",
   "execution_count": 40,
   "metadata": {},
   "outputs": [
    {
     "data": {
      "text/html": [
       "<div>\n",
       "<style scoped>\n",
       "    .dataframe tbody tr th:only-of-type {\n",
       "        vertical-align: middle;\n",
       "    }\n",
       "\n",
       "    .dataframe tbody tr th {\n",
       "        vertical-align: top;\n",
       "    }\n",
       "\n",
       "    .dataframe thead th {\n",
       "        text-align: right;\n",
       "    }\n",
       "</style>\n",
       "<table border=\"1\" class=\"dataframe\">\n",
       "  <thead>\n",
       "    <tr style=\"text-align: right;\">\n",
       "      <th></th>\n",
       "      <th>Test Size</th>\n",
       "      <th>Precision</th>\n",
       "      <th>Recall</th>\n",
       "    </tr>\n",
       "  </thead>\n",
       "  <tbody>\n",
       "    <tr>\n",
       "      <th>0</th>\n",
       "      <td>0.2</td>\n",
       "      <td>0.63</td>\n",
       "      <td>0.29</td>\n",
       "    </tr>\n",
       "    <tr>\n",
       "      <th>1</th>\n",
       "      <td>0.4</td>\n",
       "      <td>0.62</td>\n",
       "      <td>0.29</td>\n",
       "    </tr>\n",
       "    <tr>\n",
       "      <th>2</th>\n",
       "      <td>0.6</td>\n",
       "      <td>0.63</td>\n",
       "      <td>0.29</td>\n",
       "    </tr>\n",
       "    <tr>\n",
       "      <th>3</th>\n",
       "      <td>0.8</td>\n",
       "      <td>0.62</td>\n",
       "      <td>0.29</td>\n",
       "    </tr>\n",
       "  </tbody>\n",
       "</table>\n",
       "</div>"
      ],
      "text/plain": [
       "   Test Size  Precision  Recall\n",
       "0        0.2       0.63    0.29\n",
       "1        0.4       0.62    0.29\n",
       "2        0.6       0.63    0.29\n",
       "3        0.8       0.62    0.29"
      ]
     },
     "execution_count": 40,
     "metadata": {},
     "output_type": "execute_result"
    }
   ],
   "source": [
    "decsion_tree_df"
   ]
  },
  {
   "cell_type": "code",
   "execution_count": 41,
   "metadata": {},
   "outputs": [],
   "source": [
    "Ada_boost_df = pd.DataFrame({'Test Size':[0.2,0.4,0.6,0.8],\n",
    "                         'Precision':[0.62,0.64,0.63,0.63],\n",
    "                         'Recall':[0.28,0.29,0.28,0.28]\n",
    "                        })"
   ]
  },
  {
   "cell_type": "code",
   "execution_count": 42,
   "metadata": {},
   "outputs": [
    {
     "data": {
      "text/html": [
       "<div>\n",
       "<style scoped>\n",
       "    .dataframe tbody tr th:only-of-type {\n",
       "        vertical-align: middle;\n",
       "    }\n",
       "\n",
       "    .dataframe tbody tr th {\n",
       "        vertical-align: top;\n",
       "    }\n",
       "\n",
       "    .dataframe thead th {\n",
       "        text-align: right;\n",
       "    }\n",
       "</style>\n",
       "<table border=\"1\" class=\"dataframe\">\n",
       "  <thead>\n",
       "    <tr style=\"text-align: right;\">\n",
       "      <th></th>\n",
       "      <th>Test Size</th>\n",
       "      <th>Precision</th>\n",
       "      <th>Recall</th>\n",
       "    </tr>\n",
       "  </thead>\n",
       "  <tbody>\n",
       "    <tr>\n",
       "      <th>0</th>\n",
       "      <td>0.2</td>\n",
       "      <td>0.62</td>\n",
       "      <td>0.28</td>\n",
       "    </tr>\n",
       "    <tr>\n",
       "      <th>1</th>\n",
       "      <td>0.4</td>\n",
       "      <td>0.64</td>\n",
       "      <td>0.29</td>\n",
       "    </tr>\n",
       "    <tr>\n",
       "      <th>2</th>\n",
       "      <td>0.6</td>\n",
       "      <td>0.63</td>\n",
       "      <td>0.28</td>\n",
       "    </tr>\n",
       "    <tr>\n",
       "      <th>3</th>\n",
       "      <td>0.8</td>\n",
       "      <td>0.63</td>\n",
       "      <td>0.28</td>\n",
       "    </tr>\n",
       "  </tbody>\n",
       "</table>\n",
       "</div>"
      ],
      "text/plain": [
       "   Test Size  Precision  Recall\n",
       "0        0.2       0.62    0.28\n",
       "1        0.4       0.64    0.29\n",
       "2        0.6       0.63    0.28\n",
       "3        0.8       0.63    0.28"
      ]
     },
     "execution_count": 42,
     "metadata": {},
     "output_type": "execute_result"
    }
   ],
   "source": [
    "Ada_boost_df"
   ]
  },
  {
   "cell_type": "code",
   "execution_count": 43,
   "metadata": {},
   "outputs": [],
   "source": [
    "grada_boost_df  = pd.DataFrame({'Test Size':[0.2,0.4,0.6,0.8],\n",
    "                         'Precision':[0.64,0.64,0.65,0.64],\n",
    "                         'Recall':[0.3,0.3,0.28,0.29]\n",
    "                        })"
   ]
  },
  {
   "cell_type": "code",
   "execution_count": 44,
   "metadata": {},
   "outputs": [
    {
     "data": {
      "text/html": [
       "<div>\n",
       "<style scoped>\n",
       "    .dataframe tbody tr th:only-of-type {\n",
       "        vertical-align: middle;\n",
       "    }\n",
       "\n",
       "    .dataframe tbody tr th {\n",
       "        vertical-align: top;\n",
       "    }\n",
       "\n",
       "    .dataframe thead th {\n",
       "        text-align: right;\n",
       "    }\n",
       "</style>\n",
       "<table border=\"1\" class=\"dataframe\">\n",
       "  <thead>\n",
       "    <tr style=\"text-align: right;\">\n",
       "      <th></th>\n",
       "      <th>Test Size</th>\n",
       "      <th>Precision</th>\n",
       "      <th>Recall</th>\n",
       "    </tr>\n",
       "  </thead>\n",
       "  <tbody>\n",
       "    <tr>\n",
       "      <th>0</th>\n",
       "      <td>0.2</td>\n",
       "      <td>0.64</td>\n",
       "      <td>0.30</td>\n",
       "    </tr>\n",
       "    <tr>\n",
       "      <th>1</th>\n",
       "      <td>0.4</td>\n",
       "      <td>0.64</td>\n",
       "      <td>0.30</td>\n",
       "    </tr>\n",
       "    <tr>\n",
       "      <th>2</th>\n",
       "      <td>0.6</td>\n",
       "      <td>0.65</td>\n",
       "      <td>0.28</td>\n",
       "    </tr>\n",
       "    <tr>\n",
       "      <th>3</th>\n",
       "      <td>0.8</td>\n",
       "      <td>0.64</td>\n",
       "      <td>0.29</td>\n",
       "    </tr>\n",
       "  </tbody>\n",
       "</table>\n",
       "</div>"
      ],
      "text/plain": [
       "   Test Size  Precision  Recall\n",
       "0        0.2       0.64    0.30\n",
       "1        0.4       0.64    0.30\n",
       "2        0.6       0.65    0.28\n",
       "3        0.8       0.64    0.29"
      ]
     },
     "execution_count": 44,
     "metadata": {},
     "output_type": "execute_result"
    }
   ],
   "source": [
    "grada_boost_df"
   ]
  },
  {
   "cell_type": "code",
   "execution_count": null,
   "metadata": {},
   "outputs": [],
   "source": []
  }
 ],
 "metadata": {
  "kernelspec": {
   "display_name": "Python 3",
   "language": "python",
   "name": "python3"
  },
  "language_info": {
   "codemirror_mode": {
    "name": "ipython",
    "version": 3
   },
   "file_extension": ".py",
   "mimetype": "text/x-python",
   "name": "python",
   "nbconvert_exporter": "python",
   "pygments_lexer": "ipython3",
   "version": "3.6.5"
  }
 },
 "nbformat": 4,
 "nbformat_minor": 4
}
